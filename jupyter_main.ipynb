{
 "cells": [
  {
   "cell_type": "code",
   "execution_count": 2,
   "metadata": {},
   "outputs": [],
   "source": [
    "import requests"
   ]
  },
  {
   "cell_type": "markdown",
   "metadata": {},
   "source": [
    "## GET"
   ]
  },
  {
   "cell_type": "code",
   "execution_count": 39,
   "metadata": {},
   "outputs": [
    {
     "data": {
      "text/plain": [
       "'Washington calls on Congress to avoid local and party partisanship and encourages the adoption of a Bill of Rights, without specifically calling them by name. The first President demonstrates his reluctance to accept the post, rejects any salary for the execution of his duties, and devotes a considerable part of the speech to his religious beliefs.'"
      ]
     },
     "execution_count": 39,
     "metadata": {},
     "output_type": "execute_result"
    }
   ],
   "source": [
    "response = requests.get(\"http://127.0.0.1:5001/speeches\").json()\n",
    "response[0]['Summary']"
   ]
  },
  {
   "cell_type": "markdown",
   "metadata": {},
   "source": [
    "### Get with params"
   ]
  },
  {
   "cell_type": "code",
   "execution_count": 42,
   "metadata": {
    "scrolled": false
   },
   "outputs": [
    {
     "name": "stdout",
     "output_type": "stream",
     "text": [
      "1789-04-30\n",
      " George Washington\n",
      " Washington pede ao Congresso que evite partidarismo local e partidário e incentiva a adoção de uma Declaração de Direitos, sem chamá -los especificamente pelo nome.O primeiro presidente demonstra sua relutância em aceitar o cargo, rejeita qualquer salário pela execução de seus deveres e dedica uma parte considerável do discurso às suas crenças religiosas.\n",
      "1789-10-03\n",
      " George Washington\n",
      " A pedido do Congresso, Washington estabelece 26 de novembro como um feriado nacional de agradecimento a Deus pelo estabelecimento bem -sucedido da Constituição e do governo e pelas liberdades que os cidadãos desfrutam dos novos Estados Unidos.\n",
      "1790-01-08\n",
      " George Washington\n",
      " Em um amplo discurso, o presidente Washington aborda a necessidade de um exército regular, melhores estradas para comunicação e fazer um censo.Uma parte importante de sua mensagem destaca a necessidade de estabelecer um bom sistema de educação no país como uma maneira de garantir que todas as pessoas entendessem seus direitos sob a Constituição.\n"
     ]
    }
   ],
   "source": [
    "params = {\"language\":\"pt\"}\n",
    "president = 'George%20Washington'\n",
    "response2 = requests.get(f\"http://127.0.0.1:5001/president/{president}\", params).json()\n",
    "for i in response2[:3]:\n",
    "    print(f\"{i['Date']}\\n {i['President']}\\n {i['Summary']}\")"
   ]
  },
  {
   "cell_type": "markdown",
   "metadata": {},
   "source": [
    "## POST"
   ]
  },
  {
   "cell_type": "code",
   "execution_count": 10,
   "metadata": {
    "scrolled": true
   },
   "outputs": [
    {
     "data": {
      "text/plain": [
       "<Response [200]>"
      ]
     },
     "execution_count": 10,
     "metadata": {},
     "output_type": "execute_result"
    }
   ],
   "source": [
    "url = 'http://127.0.0.1:5001/post'\n",
    "\n",
    "data = {'Year': 2021,\n",
    "        'Date': \"2021-01-20\",\n",
    "        'President': 'Joe Biden',\n",
    "        'Party': \"Democratic\",\n",
    "        'Title': 'Inaugural Address',\n",
    "        'Summary': 'Inaugural Address',\n",
    "        'Transcript': 'Chief Justice Roberts, Vice President Harris, Speaker Pelosi, Leader Schumer, Leader McConnell, Vice President Pence, distinguished guests, and my fellow Americans. This is America’s day. This is democracy’s day. A day of history and hope. Of renewal and resolve. Through a crucible for the ages America has been tested anew and America has risen to the challenge. Today, we celebrate the triumph not of a candidate, but of a cause, the cause of democracy. The will of the people has been heard and the will of the people has been heeded. We have learned again that democracy is precious. Democracy is fragile. And at this hour, my friends, democracy has prevailed. So now, on this hallowed ground where just days ago violence sought to shake this Capitol’s very foundation, we come together as one nation, under God, indivisible, to carry out the peaceful transfer of power as we have for more than two centuries. We look ahead in our uniquely American way – restless, bold, optimistic – and set our sights on the nation we know we can be and we must be. I thank my predecessors of both parties for their presence here. I thank them from the bottom of my heart. You know the resilience of our Constitution and the strength of our nation.',\n",
    "        'URL': 'https://www.whitehouse.gov/briefing-room/speeches-remarks/2021/01/20/inaugural-address-by-president-joseph-r-biden-jr/',\n",
    "       }\n",
    "requests.post(url=url, data=data)"
   ]
  }
 ],
 "metadata": {
  "kernelspec": {
   "display_name": "api",
   "language": "python",
   "name": "api"
  },
  "language_info": {
   "codemirror_mode": {
    "name": "ipython",
    "version": 3
   },
   "file_extension": ".py",
   "mimetype": "text/x-python",
   "name": "python",
   "nbconvert_exporter": "python",
   "pygments_lexer": "ipython3",
   "version": "3.10.5"
  },
  "toc": {
   "base_numbering": "",
   "nav_menu": {},
   "number_sections": false,
   "sideBar": true,
   "skip_h1_title": false,
   "title_cell": "Table of Contents",
   "title_sidebar": "Contents",
   "toc_cell": false,
   "toc_position": {},
   "toc_section_display": true,
   "toc_window_display": true
  },
  "vscode": {
   "interpreter": {
    "hash": "31f2aee4e71d21fbe5cf8b01ff0e069b9275f58929596ceb00d14d90e3e16cd6"
   }
  }
 },
 "nbformat": 4,
 "nbformat_minor": 2
}
